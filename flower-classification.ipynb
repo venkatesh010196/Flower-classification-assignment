{
  "nbformat": 4,
  "nbformat_minor": 0,
  "metadata": {
    "colab": {
      "provenance": [],
      "authorship_tag": "ABX9TyOTGBH/i02l2Xy1k1sjSfRH",
      "include_colab_link": true
    },
    "kernelspec": {
      "name": "python3",
      "display_name": "Python 3"
    },
    "language_info": {
      "name": "python"
    }
  },
  "cells": [
    {
      "cell_type": "markdown",
      "metadata": {
        "id": "view-in-github",
        "colab_type": "text"
      },
      "source": [
        "<a href=\"https://colab.research.google.com/github/venkatesh010196/Flower-classification-assignment/blob/main/flower-classification.ipynb\" target=\"_parent\"><img src=\"https://colab.research.google.com/assets/colab-badge.svg\" alt=\"Open In Colab\"/></a>"
      ]
    },
    {
      "cell_type": "code",
      "source": [
        "from google.colab import drive\n",
        "drive.mount('/content/drive')"
      ],
      "metadata": {
        "id": "T0tgz9lFeImb",
        "outputId": "18282fed-fb91-4852-f520-9a9e649a98f5",
        "colab": {
          "base_uri": "https://localhost:8080/"
        }
      },
      "execution_count": 1,
      "outputs": [
        {
          "output_type": "stream",
          "name": "stdout",
          "text": [
            "Mounted at /content/drive\n"
          ]
        }
      ]
    },
    {
      "cell_type": "code",
      "source": [
        "train_file_path = '/content/drive/MyDrive/Colab Notebooks/archive/train'\n",
        "val_file_path = '/content/drive/MyDrive/Colab Notebooks/archive/val'"
      ],
      "metadata": {
        "id": "75cU4HeaegQe"
      },
      "execution_count": 2,
      "outputs": []
    },
    {
      "cell_type": "code",
      "execution_count": 3,
      "metadata": {
        "id": "HzODhmSLzwBA"
      },
      "outputs": [],
      "source": [
        "import pandas as pd\n",
        "import numpy as np\n"
      ]
    },
    {
      "cell_type": "code",
      "source": [
        "import os\n",
        "import pandas as pd\n",
        "import numpy as np\n",
        "from torchvision.io import read_image\n",
        "from sklearn.model_selection import StratifiedKFold\n",
        "from torch.utils.data import Dataset, DataLoader\n",
        "\n",
        "class CustomImageDataset(Dataset):\n",
        "    def __init__(self, annotations_file, img_dir, transform=None, target_transform=None):\n",
        "        self.img_labels = pd.read_csv(annotations_file)\n",
        "        self.img_dir = img_dir\n",
        "        self.transform = transform\n",
        "        self.target_transform = target_transform\n",
        "\n",
        "    def __len__(self):\n",
        "        return len(self.img_labels)\n",
        "\n",
        "    def __getitem__(self, idx):\n",
        "        img_path = os.path.join(self.img_dir, self.img_labels.iloc[idx, 0])\n",
        "        image = read_image(img_path)\n",
        "        label = self.img_labels.iloc[idx, 1]\n",
        "        if self.transform:\n",
        "            image = self.transform(image)\n",
        "        if self.target_transform:\n",
        "            label = self.target_transform(label)\n",
        "        return image, label\n",
        "\n",
        "# Define the dataset and data loader for 10-fold stratified cross-validation\n",
        "def create_stratified_data_loader(img_dir, annotations_file, transform, batch_size, num_folds=10):\n",
        "    # Load your dataset\n",
        "    dataset = CustomImageDataset(annotations_file, img_dir, transform=transform)\n",
        "\n",
        "    # Get labels and indices\n",
        "    labels = dataset.img_labels['label'].values\n",
        "    indices = np.arange(len(labels))\n",
        "\n",
        "    # Initialize StratifiedKFold\n",
        "    skf = StratifiedKFold(n_splits=num_folds, shuffle=True, random_state=42)\n",
        "\n",
        "    data_loaders = []\n",
        "\n",
        "    for train_index, val_index in skf.split(indices, labels):\n",
        "        train_dataset = torch.utils.data.Subset(dataset, train_index)\n",
        "        val_dataset = torch.utils.data.Subset(dataset, val_index)\n",
        "\n",
        "        train_loader = DataLoader(train_dataset, batch_size=batch_size, shuffle=True)\n",
        "        val_loader = DataLoader(val_dataset, batch_size=batch_size)\n",
        "\n",
        "        data_loaders.append((train_loader, val_loader))\n",
        "\n",
        "    return data_loaders\n",
        "\n",
        "# Example usage\n",
        "img_dir = 'path_to_your_images'\n",
        "annotations_file = 'path_to_your_annotations_file.csv'\n",
        "transform = your_transform_function  # Define your image transformation function\n",
        "batch_size = 32\n",
        "\n",
        "data_loaders = create_stratified_data_loader(img_dir, annotations_file, transform, batch_size)\n",
        "\n",
        "# Iterate over the 10 folds\n",
        "for fold, (train_loader, val_loader) in enumerate(data_loaders):\n",
        "    print(f\"Fold {fold + 1}\")\n",
        "    # Train your model on train_loader and validate on val_loader for each fold\n",
        "\n"
      ],
      "metadata": {
        "id": "TdkrdVtm2Du9",
        "outputId": "a641bb24-f6fb-443b-dbaf-1541107f70e5",
        "colab": {
          "base_uri": "https://localhost:8080/",
          "height": 250
        }
      },
      "execution_count": 4,
      "outputs": [
        {
          "output_type": "error",
          "ename": "NameError",
          "evalue": "ignored",
          "traceback": [
            "\u001b[0;31m---------------------------------------------------------------------------\u001b[0m",
            "\u001b[0;31mNameError\u001b[0m                                 Traceback (most recent call last)",
            "\u001b[0;32m<ipython-input-4-bff25578a6b2>\u001b[0m in \u001b[0;36m<cell line: 56>\u001b[0;34m()\u001b[0m\n\u001b[1;32m     54\u001b[0m \u001b[0mimg_dir\u001b[0m \u001b[0;34m=\u001b[0m \u001b[0;34m'path_to_your_images'\u001b[0m\u001b[0;34m\u001b[0m\u001b[0;34m\u001b[0m\u001b[0m\n\u001b[1;32m     55\u001b[0m \u001b[0mannotations_file\u001b[0m \u001b[0;34m=\u001b[0m \u001b[0;34m'path_to_your_annotations_file.csv'\u001b[0m\u001b[0;34m\u001b[0m\u001b[0;34m\u001b[0m\u001b[0m\n\u001b[0;32m---> 56\u001b[0;31m \u001b[0mtransform\u001b[0m \u001b[0;34m=\u001b[0m \u001b[0myour_transform_function\u001b[0m  \u001b[0;31m# Define your image transformation function\u001b[0m\u001b[0;34m\u001b[0m\u001b[0;34m\u001b[0m\u001b[0m\n\u001b[0m\u001b[1;32m     57\u001b[0m \u001b[0mbatch_size\u001b[0m \u001b[0;34m=\u001b[0m \u001b[0;36m32\u001b[0m\u001b[0;34m\u001b[0m\u001b[0;34m\u001b[0m\u001b[0m\n\u001b[1;32m     58\u001b[0m \u001b[0;34m\u001b[0m\u001b[0m\n",
            "\u001b[0;31mNameError\u001b[0m: name 'your_transform_function' is not defined"
          ]
        }
      ]
    }
  ]
}